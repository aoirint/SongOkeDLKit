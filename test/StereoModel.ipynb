{
 "cells": [
  {
   "cell_type": "code",
   "execution_count": 13,
   "metadata": {},
   "outputs": [
    {
     "name": "stdout",
     "output_type": "stream",
     "text": [
      "torch.Size([1, 2, 220500])\n",
      "torch.Size([1, 2, 220500])\n"
     ]
    }
   ],
   "source": [
    "import torch\n",
    "import torch.nn as nn\n",
    "\n",
    "def conv1d(in_channels, out_channels, k, p):\n",
    "    return nn.Conv1d(in_channels, out_channels, kernel_size=k, padding=p)\n",
    "\n",
    "def relu():\n",
    "    return nn.ReLU()\n",
    "\n",
    "def sigmoid():\n",
    "    return nn.Sigmoid()\n",
    "\n",
    "model = nn.Sequential(\n",
    "    conv1d(2, 16, k=3, p=1),\n",
    "    relu(),\n",
    "    conv1d(16, 32, k=3, p=1),\n",
    "    conv1d(32, 64, k=3, p=1),\n",
    "    relu(),\n",
    "    conv1d(64, 32, k=3, p=1),\n",
    "    relu(),\n",
    "    conv1d(32, 16, k=3, p=1),\n",
    "    relu(),\n",
    "    conv1d(16, 2, k=3, p=1),\n",
    "    sigmoid(),\n",
    ")\n",
    "\n",
    "x = torch.randn((1, 2, 220500), dtype=torch.float32)\n",
    "print(x.shape)\n",
    "\n",
    "model.eval()\n",
    "with torch.no_grad():\n",
    "    y = model(x)\n",
    "\n",
    "print(y.shape)\n"
   ]
  },
  {
   "cell_type": "code",
   "execution_count": null,
   "metadata": {},
   "outputs": [],
   "source": []
  }
 ],
 "metadata": {
  "kernelspec": {
   "display_name": "Python 3",
   "language": "python",
   "name": "python3"
  },
  "language_info": {
   "codemirror_mode": {
    "name": "ipython",
    "version": 3
   },
   "file_extension": ".py",
   "mimetype": "text/x-python",
   "name": "python",
   "nbconvert_exporter": "python",
   "pygments_lexer": "ipython3",
   "version": "3.6.9"
  }
 },
 "nbformat": 4,
 "nbformat_minor": 2
}
